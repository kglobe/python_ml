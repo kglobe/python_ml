{
  "nbformat": 4,
  "nbformat_minor": 0,
  "metadata": {
    "colab": {
      "name": "twse五檔掃累積成績量.ipynb",
      "provenance": [],
      "collapsed_sections": [],
      "authorship_tag": "ABX9TyNW1YxIM1juxZQOZi5Ii+6f",
      "include_colab_link": true
    },
    "kernelspec": {
      "name": "python3",
      "display_name": "Python 3"
    },
    "language_info": {
      "name": "python"
    }
  },
  "cells": [
    {
      "cell_type": "markdown",
      "metadata": {
        "id": "view-in-github",
        "colab_type": "text"
      },
      "source": [
        "<a href=\"https://colab.research.google.com/github/kglobe/python_ml/blob/master/twse%E4%BA%94%E6%AA%94%E6%8E%83%E7%B4%AF%E7%A9%8D%E6%88%90%E7%B8%BE%E9%87%8F.ipynb\" target=\"_parent\"><img src=\"https://colab.research.google.com/assets/colab-badge.svg\" alt=\"Open In Colab\"/></a>"
      ]
    },
    {
      "cell_type": "code",
      "metadata": {
        "id": "QR-v4CUdKxl9"
      },
      "source": [
        "from IPython.display import display, clear_output, HTML\n",
        "from urllib.request import urlopen\n",
        "import pandas as pd\n",
        "import datetime\n",
        "import requests\n",
        "import sched\n",
        "import time\n",
        "import json\n",
        "import pytz\n",
        "\n",
        "s = sched.scheduler(time.time, time.sleep)\n",
        "\n",
        "def tableColor(val):\n",
        "    if val > 0:\n",
        "        color = 'red'\n",
        "    elif val < 0:\n",
        "        color = 'green'\n",
        "    else:\n",
        "        color = 'white'\n",
        "    return 'color: %s' % color\n",
        "\n",
        "def stock_crawler(tse_targets,txpe_targets):\n",
        "  clear_output(wait=True)\n",
        "      \n",
        "  # 組成stock_list\n",
        "  tse_stock_list = '|'.join('tse_{}.tw'.format(target) for target in tse_targets)\n",
        "  txpe_stock_list = '|'.join('otc_{}.tw'.format(target) for target in txpe_targets)\n",
        "\n",
        "  #　query data\n",
        "  query_url = \"http://mis.twse.com.tw/stock/api/getStockInfo.jsp?ex_ch=\"+ tse_stock_list+'|'+txpe_stock_list\n",
        "  print('query_url:',query_url)\n",
        "  # data = json.loads(urlopen(query_url).read())\n",
        "  resp = requests.get(query_url)\n",
        "  data = resp.json()\n",
        "\n",
        "  # 過濾出有用到的欄位\n",
        "  columns = ['c','n','z','tv','v','o','h','l','y']\n",
        "  df = pd.DataFrame(data['msgArray'], columns=columns)\n",
        "  df.columns = ['股票代號','公司簡稱','當盤成交價','當盤成交量','累積成交量','開盤價','最高價','最低價','昨收價']\n",
        "  df.insert(9, \"漲跌百分比\", 0.0) \n",
        "  df = df.replace('-',0)\n",
        "  # 新增漲跌百分比\n",
        "  for x in range(len(df.index)):\n",
        "    if df['當盤成交價'].iloc[x] != '-':\n",
        "        df.iloc[x, [2,3,4,5,6,7,8]] = df.iloc[x, [2,3,4,5,6,7,8]].astype(float)\n",
        "        df['漲跌百分比'].iloc[x] = (df['當盤成交價'].iloc[x] - df['昨收價'].iloc[x])/df['昨收價'].iloc[x] * 100\n",
        "\n",
        "  # 紀錄更新時間\n",
        "  now = datetime.datetime.now(pytz.timezone('Asia/Taipei'))\n",
        "  print(\"更新時間:\" + now.strftime('%Y-%m-%d %H:%M:%S'))\n",
        "\n",
        "  # show table\n",
        "  df = df.style.applymap(tableColor, subset=['漲跌百分比'])\n",
        "  display(df)\n",
        "\n",
        "  # start_time = datetime.datetime.strptime(str(time.date())+'9:30', '%Y-%m-%d%H:%M')\n",
        "  # end_time =  datetime.datetime.strptime(str(time.date())+'13:30', '%Y-%m-%d%H:%M')\n",
        "  start_time = datetime.datetime.strptime(str(now.date())+'00:30+0800', '%Y-%m-%d%H:%M%z')\n",
        "  end_time =  datetime.datetime.strptime(str(now.date())+'13:30+0800', '%Y-%m-%d%H:%M%z')\n",
        "  # 判斷爬蟲終止條件\n",
        "  if now >= start_time and now <= end_time:\n",
        "      s.enter(5, 0, stock_crawler, argument=(tse_targets,txpe_targets,))\n",
        "\n",
        "# 欲爬取的股票代碼\n",
        "twse_stock_list = ['1101','1102','1103','2002']\n",
        "txpe_stock_list = ['1586','1788','3064']\n",
        "\n",
        "# 每秒定時器\n",
        "s.enter(5, 0, stock_crawler, argument=(twse_stock_list,txpe_stock_list,))\n",
        "s.run()"
      ],
      "execution_count": null,
      "outputs": []
    }
  ]
}